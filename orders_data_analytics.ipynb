{
 "cells": [
  {
   "cell_type": "code",
   "execution_count": 14,
   "id": "5c41433d-e16b-4b85-8c60-51b6d42b01b5",
   "metadata": {},
   "outputs": [
    {
     "name": "stdout",
     "output_type": "stream",
     "text": [
      "✓ Successfully loaded 9994 rows × 16 columns\n"
     ]
    }
   ],
   "source": [
    "import pandas as pd\n",
    "import os\n",
    "\n",
    "file_path = \"data/orders.csv\"\n",
    "df = None\n",
    "\n",
    "if not os.path.exists(file_path):\n",
    "    print(f\"❌ File does not exist: {file_path}\")\n",
    "else:\n",
    "    try:\n",
    "        df = pd.read_csv(file_path, na_values=[\"unknown\", \"Not Available\"]) # Add new words in the list of missing and null values.\n",
    "        \n",
    "        if df.empty:\n",
    "            print(\"⚠️ CSV file is empty\")\n",
    "        else:\n",
    "            print(f\"✓ Successfully loaded {df.shape[0]} rows × {df.shape[1]} columns\")\n",
    "    except Exception as e:\n",
    "        print(f\"❌ Error loading CSV: {type(e).__name__}: {e}\")"
   ]
  },
  {
   "cell_type": "code",
   "execution_count": 15,
   "id": "8dd2392a-7a7a-440b-b7b8-23df93f0b17b",
   "metadata": {},
   "outputs": [
    {
     "name": "stdout",
     "output_type": "stream",
     "text": [
      "<class 'pandas.core.frame.DataFrame'>\n",
      "RangeIndex: 9994 entries, 0 to 9993\n",
      "Data columns (total 16 columns):\n",
      " #   Column            Non-Null Count  Dtype \n",
      "---  ------            --------------  ----- \n",
      " 0   Order Id          9994 non-null   int64 \n",
      " 1   Order Date        9994 non-null   object\n",
      " 2   Ship Mode         9988 non-null   object\n",
      " 3   Segment           9994 non-null   object\n",
      " 4   Country           9994 non-null   object\n",
      " 5   City              9994 non-null   object\n",
      " 6   State             9994 non-null   object\n",
      " 7   Postal Code       9994 non-null   int64 \n",
      " 8   Region            9994 non-null   object\n",
      " 9   Category          9994 non-null   object\n",
      " 10  Sub Category      9994 non-null   object\n",
      " 11  Product Id        9994 non-null   object\n",
      " 12  cost price        9994 non-null   int64 \n",
      " 13  List Price        9994 non-null   int64 \n",
      " 14  Quantity          9994 non-null   int64 \n",
      " 15  Discount Percent  9994 non-null   int64 \n",
      "dtypes: int64(6), object(10)\n",
      "memory usage: 1.2+ MB\n",
      "None\n"
     ]
    }
   ],
   "source": [
    "## Get basic info about the dataset\n",
    "print(df.info())"
   ]
  },
  {
   "cell_type": "code",
   "execution_count": 16,
   "id": "2ea4953e-ca64-46b8-bd0e-04811093af8e",
   "metadata": {},
   "outputs": [
    {
     "name": "stdout",
     "output_type": "stream",
     "text": [
      "\n",
      " ## --- First 3 rows ---\n",
      "    Order Id  Order Date     Ship Mode    Segment        Country         City  \\\n",
      "0         1  2023-03-01  Second Class   Consumer  United States    Henderson   \n",
      "1         2  2023-08-15  Second Class   Consumer  United States    Henderson   \n",
      "2         3  2023-01-10  Second Class  Corporate  United States  Los Angeles   \n",
      "\n",
      "        State  Postal Code Region         Category Sub Category  \\\n",
      "0    Kentucky        42420  South        Furniture    Bookcases   \n",
      "1    Kentucky        42420  South        Furniture       Chairs   \n",
      "2  California        90036   West  Office Supplies       Labels   \n",
      "\n",
      "        Product Id  cost price  List Price  Quantity  Discount Percent  \n",
      "0  FUR-BO-10001798         240         260         2                 2  \n",
      "1  FUR-CH-10000454         600         730         3                 3  \n",
      "2  OFF-LA-10000240          10          10         2                 5  \n",
      "\n",
      " ## --- last 3 rows ---\n",
      "       Order Id  Order Date       Ship Mode   Segment        Country  \\\n",
      "9991      9992  2022-08-07  Standard Class  Consumer  United States   \n",
      "9992      9993  2022-11-19  Standard Class  Consumer  United States   \n",
      "9993      9994  2022-07-17    Second Class  Consumer  United States   \n",
      "\n",
      "             City       State  Postal Code Region         Category  \\\n",
      "9991   Costa Mesa  California        92627   West       Technology   \n",
      "9992   Costa Mesa  California        92627   West  Office Supplies   \n",
      "9993  Westminster  California        92683   West  Office Supplies   \n",
      "\n",
      "     Sub Category       Product Id  cost price  List Price  Quantity  \\\n",
      "9991       Phones  TEC-PH-10003645         220         260         2   \n",
      "9992        Paper  OFF-PA-10004041          30          30         4   \n",
      "9993   Appliances  OFF-AP-10002684         210         240         2   \n",
      "\n",
      "      Discount Percent  \n",
      "9991                 2  \n",
      "9992                 3  \n",
      "9993                 3  \n",
      "\n",
      " ## --- random 3 rows ---\n",
      "       Order Id  Order Date       Ship Mode      Segment        Country  \\\n",
      "658        659  2022-07-01        Same Day  Home Office  United States   \n",
      "7921      7922  2022-10-08  Standard Class     Consumer  United States   \n",
      "455        456  2022-11-08  Standard Class    Corporate  United States   \n",
      "\n",
      "          City     State  Postal Code   Region         Category Sub Category  \\\n",
      "658     Aurora  Illinois        60505  Central  Office Supplies      Binders   \n",
      "7921  Columbia  Maryland        21044     East  Office Supplies      Binders   \n",
      "455     Norman  Oklahoma        73071  Central       Technology  Accessories   \n",
      "\n",
      "           Product Id  cost price  List Price  Quantity  Discount Percent  \n",
      "658   OFF-BI-10004654           0           0         2                 5  \n",
      "7921  OFF-BI-10002026         150         170         3                 4  \n",
      "455   TEC-AC-10001772          50          60         4                 5  \n"
     ]
    }
   ],
   "source": [
    "# look at the first 3 rows\n",
    "print(\"\\n ## --- First 3 rows ---\\n\", df.head(3))\n",
    "\n",
    "# look at the last 3 rows\n",
    "print(\"\\n ## --- last 3 rows ---\\n\", df.tail(3))\n",
    "\n",
    "# look at random 3 rows\n",
    "print(\"\\n ## --- random 3 rows ---\\n\", df.sample(n=3))"
   ]
  },
  {
   "cell_type": "code",
   "execution_count": 17,
   "id": "cbc06032-f165-498a-9c34-574f0a57aab9",
   "metadata": {},
   "outputs": [
    {
     "name": "stdout",
     "output_type": "stream",
     "text": [
      "==> Check for missing values : \n",
      "\n",
      "Order Id            0\n",
      "Order Date          0\n",
      "Ship Mode           6\n",
      "Segment             0\n",
      "Country             0\n",
      "City                0\n",
      "State               0\n",
      "Postal Code         0\n",
      "Region              0\n",
      "Category            0\n",
      "Sub Category        0\n",
      "Product Id          0\n",
      "cost price          0\n",
      "List Price          0\n",
      "Quantity            0\n",
      "Discount Percent    0\n",
      "dtype: int64\n",
      "\n",
      "===> Check for duplicate rows : \n",
      "\n",
      "0\n"
     ]
    }
   ],
   "source": [
    "#Check for Data Quality Issues\n",
    "\n",
    "# Check for missing values\n",
    "print(\"==> Check for missing values : \\n\", df.isnull().sum(), sep=\"\\n\")\n",
    "\n",
    "# Check the values\n",
    "df['Ship Mode'].unique()\n",
    "\n",
    "# Check for duplicate rows\n",
    "print(\"\\n===> Check for duplicate rows : \\n\", df.duplicated().sum(), sep=\"\\n\")"
   ]
  },
  {
   "cell_type": "code",
   "execution_count": 18,
   "id": "7dd864b4",
   "metadata": {},
   "outputs": [
    {
     "name": "stdout",
     "output_type": "stream",
     "text": [
      "Columns name Befor -->\n",
      " Index(['Order Id', 'Order Date', 'Ship Mode', 'Segment', 'Country', 'City',\n",
      "       'State', 'Postal Code', 'Region', 'Category', 'Sub Category',\n",
      "       'Product Id', 'cost price', 'List Price', 'Quantity',\n",
      "       'Discount Percent'],\n",
      "      dtype='object')\n",
      "Columns name After -->\n",
      " Index(['order_id', 'order_date', 'ship_mode', 'segment', 'country', 'city',\n",
      "       'state', 'postal_code', 'region', 'category', 'sub_category',\n",
      "       'product_id', 'cost_price', 'list_price', 'quantity',\n",
      "       'discount_percent'],\n",
      "      dtype='object')\n"
     ]
    }
   ],
   "source": [
    "# Rename columns name\n",
    "print(\"Columns name Befor -->\\n\", df.columns)\n",
    "df.columns = df.columns.str.lower()\n",
    "df.columns = df.columns.str.replace(' ','_')\n",
    "print(\"Columns name After -->\\n\", df.columns)"
   ]
  },
  {
   "cell_type": "code",
   "execution_count": 19,
   "id": "f873861d",
   "metadata": {},
   "outputs": [],
   "source": [
    "# Derive new columns discount, sale price and profit\n",
    "df['discount'] = df['list_price'] * df['discount_percent'] * 0.01\n",
    "df['sale_price'] = df['list_price'] - df['discount']\n",
    "df['profit'] = df['sale_price'] - df['cost_price']"
   ]
  },
  {
   "cell_type": "code",
   "execution_count": 20,
   "id": "011c23b6",
   "metadata": {},
   "outputs": [],
   "source": [
    "# convert order date from object data type to date data type\n",
    "df['order_date'] = pd.to_datetime(df['order_date'], format=\"%Y-%m-%d\")"
   ]
  },
  {
   "cell_type": "code",
   "execution_count": 21,
   "id": "2b168ba9",
   "metadata": {},
   "outputs": [],
   "source": [
    "# Remove unused columns\n",
    "df.drop(columns=[\"cost_price\", \"list_price\", \"discount_percent\"], inplace=True)"
   ]
  },
  {
   "cell_type": "code",
   "execution_count": 22,
   "id": "c04514db",
   "metadata": {
    "scrolled": true
   },
   "outputs": [],
   "source": [
    "import psycopg2\n",
    "from psycopg2 import OperationalError"
   ]
  },
  {
   "cell_type": "code",
   "execution_count": null,
   "id": "d01d9cd2",
   "metadata": {},
   "outputs": [
    {
     "name": "stdout",
     "output_type": "stream",
     "text": [
      "✓ Connection is ready\n",
      "✓ Database 'sales' created successfully\n"
     ]
    }
   ],
   "source": [
    "# Connect to Postgresql database to create sales database\n",
    "try:\n",
    "    conn = psycopg2.connect(\n",
    "        host=\"localhost\",\n",
    "        database=\"postgres\",\n",
    "        user=\"postgres\",\n",
    "        password=\"P@ssw0rd\",\n",
    "        port=5432\n",
    "    )\n",
    "    \n",
    "    if conn.status == psycopg2.extensions.STATUS_READY:\n",
    "        print(\"✓ Connection is ready\")\n",
    "        conn.autocommit = True\n",
    "        cursor = conn.cursor()\n",
    "        try:\n",
    "            cursor.execute(\"CREATE DATABASE sales\")\n",
    "            print(\"✓ Database 'sales' created successfully\")\n",
    "        except psycopg2.errors.DuplicateDatabase:\n",
    "            print(\"✓ Database 'sales' already exists\")\n",
    "        cursor.close()\n",
    "        conn.close()\n",
    "        \n",
    "except Exception as e:\n",
    "    print(f\"❌ Connection Error: {e}\")"
   ]
  },
  {
   "cell_type": "code",
   "execution_count": 12,
   "id": "f414f410",
   "metadata": {},
   "outputs": [
    {
     "name": "stdout",
     "output_type": "stream",
     "text": [
      "✓ Connection is ready\n",
      "✓ Connected to database: sales\n",
      "✓ Connected as user: postgres\n"
     ]
    }
   ],
   "source": [
    "# Connect to postgresql server\n",
    "try:\n",
    "    conn = psycopg2.connect(\n",
    "        database=\"sales\",\n",
    "        host=\"localhost\",\n",
    "        user=\"postgres\",\n",
    "        password=\"P@ssw0rd\",\n",
    "        port=\"5432\"\n",
    "    )\n",
    "    if conn.status == psycopg2.extensions.STATUS_READY:\n",
    "        print(\"✓ Connection is ready\")\n",
    "        cursor = conn.cursor()\n",
    "        cursor.execute(\"SELECT current_database(), current_user;\")\n",
    "        db_name, user = cursor.fetchone()\n",
    "        print(f\"✓ Connected to database: {db_name}\")\n",
    "        print(f\"✓ Connected as user: {user}\")\n",
    "except OperationalError as e:\n",
    "    print(f\"❌ Operational Error: {e}\")\n",
    "except Exception as e:\n",
    "    print(f\"❌ Connection Error: {e}\")"
   ]
  },
  {
   "cell_type": "code",
   "execution_count": 23,
   "id": "80bb7a70",
   "metadata": {},
   "outputs": [
    {
     "name": "stdout",
     "output_type": "stream",
     "text": [
      "✓ load 9994 rows into <Sales> Data Base in <orders> Table\n"
     ]
    }
   ],
   "source": [
    "# Load the data into the data base\n",
    "import io\n",
    "\n",
    "table_name = 'orders'\n",
    "qry = \"\"\"\n",
    "        CREATE TABLE orders (\n",
    "        order_id INTEGER PRIMARY KEY,\n",
    "        order_date DATE,\n",
    "        ship_mode VARCHAR(20),\n",
    "        segment VARCHAR(20),\n",
    "        country VARCHAR(20),\n",
    "        city VARCHAR(20),\n",
    "        state VARCHAR(20),\n",
    "        region VARCHAR(20),\n",
    "        category VARCHAR(20),\n",
    "        sub_category VARCHAR(20),\n",
    "        product_id VARCHAR(20),\n",
    "        discount REAL,\n",
    "        sale_price REAL,\n",
    "        profit REAL,\n",
    "        quantity INTEGER,\n",
    "        postal_code INTEGER);\n",
    "    \"\"\"\n",
    "\n",
    "try:\n",
    "    # Convert DataFrame to CSV in memory\n",
    "    output = io.StringIO()\n",
    "    df.to_csv(output, sep='\\t', header=False, index=False, na_rep='\\\\N')\n",
    "    output.seek(0)\n",
    "    # Use COPY to load data\n",
    "    cursor.execute(qry)\n",
    "    cursor.copy_from(\n",
    "            output, \n",
    "            table_name,\n",
    "            columns=df.columns.tolist(),\n",
    "            sep='\\t',\n",
    "            null='NULL'\n",
    "        )\n",
    "    conn.commit()\n",
    "    print(f\"✓ load {len(df)} rows into <Sales> Data Base in <orders> Table\")\n",
    "except Exception as e:\n",
    "    conn.rollback()\n",
    "    print(f\"❌ load failed: {e}\")"
   ]
  },
  {
   "cell_type": "code",
   "execution_count": null,
   "id": "6185d596",
   "metadata": {},
   "outputs": [],
   "source": [
    "def exec_show_qry(query: str):\n",
    "    try:\n",
    "        if conn.status != psycopg2.extensions.STATUS_READY:\n",
    "            conn.rollback()\n",
    "        cursor.execute(qry)\n",
    "        result_qry = cursor.fetchall()\n",
    "        print(f\"Query returned {len(result_qry)} rows:\")\n",
    "        for i, row in enumerate(result_qry, 1):\n",
    "            print(f\"{i}: {row}\")\n",
    "    except psycopg2.Error as e:\n",
    "        conn.rollback()\n",
    "        print(f\"❌ Database error: {e}\")\n",
    "    except Exception as e:\n",
    "        conn.rollback()\n",
    "        print(f\"❌ Error failed To Exec This Query: {e}\")"
   ]
  },
  {
   "cell_type": "code",
   "execution_count": 25,
   "id": "1c37699b",
   "metadata": {},
   "outputs": [
    {
     "name": "stdout",
     "output_type": "stream",
     "text": [
      "Query returned 10 rows:\n",
      "1: ('TEC-CO-10004722', 59514.0)\n",
      "2: ('OFF-BI-10003527', 26525.3)\n",
      "3: ('TEC-MA-10002412', 21734.4)\n",
      "4: ('FUR-CH-10002024', 21096.2)\n",
      "5: ('OFF-BI-10001359', 19090.2)\n",
      "6: ('OFF-BI-10000545', 18249.0)\n",
      "7: ('TEC-CO-10001449', 18151.2)\n",
      "8: ('TEC-MA-10001127', 17906.4)\n",
      "9: ('OFF-BI-10004995', 17354.8)\n",
      "10: ('OFF-SU-10000151', 16325.8)\n"
     ]
    }
   ],
   "source": [
    "# What is The top 10 highest reveue generating products ?\n",
    "qry = \"\"\"\n",
    "        SELECT product_id, SUM(sale_price) as sales\n",
    "        FROM public.orders\n",
    "        GROUP BY product_id\n",
    "        ORDER BY sales DESC\n",
    "        LIMIT 10;\n",
    "    \"\"\"\n",
    "exec_show_qry(qry)"
   ]
  },
  {
   "cell_type": "code",
   "execution_count": null,
   "id": "c81ab7d9",
   "metadata": {},
   "outputs": [],
   "source": [
    "# What's the 5 highest selling products of each region ?\n",
    "qry = \"\"\"\n",
    "        with ranked_products as (\n",
    "            select \n",
    "                region, product_id, \n",
    "                SUM(sale_price) as sale,\n",
    "                rank() over(partition by region order by SUM(sale_price) DESC) as product_rank\n",
    "            from public.orders\n",
    "            group by region, product_id\n",
    "        )\n",
    "        SELECT *\n",
    "        FROM ranked_products\n",
    "        WHERE product_rank <= 5\n",
    "        order by region;\n",
    "    \"\"\"\n",
    "exec_show_qry(query=qry)"
   ]
  },
  {
   "cell_type": "code",
   "execution_count": null,
   "id": "731dcc3f",
   "metadata": {},
   "outputs": [],
   "source": [
    "# Find month over month growth comparaison for 2022 and 2023 sales eg: jan 2022 vs jan 2023\n",
    "qry = \"\"\"\n",
    "        WITH cte as (\n",
    "            SELECT \n",
    "                EXTRACT(YEAR FROM order_date)::INTEGER as order_year,\n",
    "                EXTRACT(MONTH FROM order_date)::INTEGER as order_month,\n",
    "                SUM(sale_price) as total_sales\n",
    "            FROM public.orders\n",
    "            GROUP BY order_year, order_month\n",
    "        )\n",
    "        SELECT \n",
    "            order_month,\n",
    "            SUM(case when order_year=2022 then total_sales else 0 end) as sales_2022,\n",
    "            SUM(case when order_year=2023 then total_sales else 0 end) sales_2022\n",
    "        FROM cte\n",
    "        GROUP BY order_month\n",
    "        ORDER BY order_month;\n",
    "    \"\"\"\n",
    "exec_show_qry(qry)"
   ]
  },
  {
   "cell_type": "code",
   "execution_count": null,
   "id": "82763e1e",
   "metadata": {},
   "outputs": [],
   "source": [
    "# For each category which month had highest sales\n",
    "qry=\"\"\"\n",
    "        with cte as (\n",
    "            SELECT \n",
    "                category,\n",
    "                EXTRACT(YEAR FROM order_date)::INTEGER as year,\n",
    "                EXTRACT(MONTH FROM order_date)::INTEGER as month,\n",
    "                SUM(sale_price) as sale,\n",
    "                ROW_NUMBER() OVER(partition by category order by SUM(sale_price) DESC) as sale_rank\n",
    "            FROM public.orders\n",
    "            GROUP BY category, month, year\n",
    "            ORDER BY category, sale\n",
    "        )\n",
    "        select category, year, month, sale\n",
    "        FROM cte\n",
    "        where sale_rank = 1\n",
    "    \"\"\"\n",
    "exec_show_qry(qry)"
   ]
  },
  {
   "cell_type": "code",
   "execution_count": null,
   "id": "2d74f4b3",
   "metadata": {},
   "outputs": [],
   "source": [
    "# Which sub category had highest growth by profit in 2023 compare to 2022\n",
    "qry=\"\"\"\n",
    "        with cte as (\n",
    "            SELECT \n",
    "                sub_category,\n",
    "                EXTRACT(YEAR FROM order_date)::INTEGER as year,\n",
    "                SUM(profit) as income\n",
    "            FROM public.orders\n",
    "            GROUP BY sub_category, year\n",
    "            ORDER BY sub_category, income\n",
    "        )\n",
    "        select \n",
    "            sub_category,\n",
    "            MAX(CASE WHEN year = 2023 THEN income END) - MAX(CASE WHEN year = 2022 THEN income END) AS difference,\n",
    "            ((MAX(CASE WHEN year = 2023 THEN income END) - MAX(CASE WHEN year = 2022 THEN income END)) * 100) / MAX(CASE WHEN year = 2022 THEN income END)  AS rate_growth\n",
    "        FROM cte\n",
    "        GROUP BY sub_category\n",
    "        ORDER BY difference DESC\n",
    "        LIMIT 1\n",
    "    \"\"\"\n",
    "exec_show_qry(qry)"
   ]
  }
 ],
 "metadata": {
  "kernelspec": {
   "display_name": "Python 3 (ipykernel)",
   "language": "python",
   "name": "python3"
  },
  "language_info": {
   "codemirror_mode": {
    "name": "ipython",
    "version": 3
   },
   "file_extension": ".py",
   "mimetype": "text/x-python",
   "name": "python",
   "nbconvert_exporter": "python",
   "pygments_lexer": "ipython3",
   "version": "3.11.3"
  }
 },
 "nbformat": 4,
 "nbformat_minor": 5
}
